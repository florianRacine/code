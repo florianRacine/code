{
 "cells": [
  {
   "cell_type": "markdown",
   "metadata": {},
   "source": [
    "\n",
    "# *Intelligence Artificielle et Jeux - ECM 2A*\n",
    "\n",
    "\n",
    "# Résolution par exploration\n",
    "\n",
    "### Plan\n",
    "\n",
    "0. Guide sur les Notebook Python\n",
    "1. Environnement de travail\n",
    "2. Résolution de problèmes par exploration\n",
    "3. Création d'une nouvelle classe de problème \n",
    "4. Accélération de la recherche avec des algorithmes informés"
   ]
  },
  {
   "cell_type": "code",
   "execution_count": 1,
   "metadata": {
    "collapsed": true
   },
   "outputs": [],
   "source": [
    "# Import et création d'un échiquier (avec les méthodes associées)\n",
    "\n",
    "import chess\n",
    "\n",
    "\n"
   ]
  },
  {
   "cell_type": "code",
   "execution_count": 2,
   "metadata": {
    "collapsed": true
   },
   "outputs": [],
   "source": [
    "\n",
    "from Problems.Problems import Problem\n",
    "\n",
    "from Chess.ChessProblems import NQueensProblem, KnightProblem\n",
    "\n",
    "from Solvers.Solvers import depth_first_graph_search, breadth_first_graph_search\n",
    "\n"
   ]
  },
  {
   "cell_type": "markdown",
   "metadata": {
    "collapsed": true
   },
   "source": [
    "### 3.2 Comparaison des méthodes de recherche sur le problème du cavalier et améliorations \n",
    "\n",
    "* Comparez les deux méthodes en termes de longueur de la solution trouvée (nombre de coups joués) et de noeuds explorés. \n",
    " \n",
    "* Pour améliorer l'efficacité de la recherche vous pouvez utiliser une stratégie de recherche en profondeur limitée  itérative. Implémentez cette fonction de recherche et comparez là avec les deux autres méthodes déjà implémentées   \n",
    " "
   ]
  },
  {
   "cell_type": "code",
   "execution_count": 3,
   "metadata": {
    "collapsed": true
   },
   "outputs": [],
   "source": [
    "# 1.Comparez les deux méthodes en termes de longueur de la solution trouvée (nombre de coups joués) et de noeuds explorés."
   ]
  },
  {
   "cell_type": "code",
   "execution_count": 4,
   "metadata": {},
   "outputs": [
    {
     "name": "stdout",
     "output_type": "stream",
     "text": [
      "56\n",
      "4\n"
     ]
    }
   ],
   "source": [
    "# Longueurs des solutions et nombre de noeuds explorés \n",
    "\n",
    "from Problems.Problems import Problem\n",
    "\n",
    "from Chess.ChessProblems import KnightProblem\n",
    "\n",
    "from Solvers.Solvers import depth_first_graph_search, breadth_first_graph_search, best_first_graph_search, greedy_best_first_graph_search2, depth_heuristic\n",
    "\n",
    "p  = KnightProblem()\n",
    "\n",
    "s = greedy_best_first_graph_search2(p, depth_heuristic)\n",
    "\n",
    "#print (s)\n",
    "print (s.N_explored)\n",
    "print(len(s.solution()))\n",
    "#p.display_solution(s)\n"
   ]
  },
  {
   "cell_type": "code",
   "execution_count": 5,
   "metadata": {
    "collapsed": true
   },
   "outputs": [],
   "source": [
    "    \n",
    "square_final = p.position_finale\n",
    "\n",
    "squares = s.state.pieces(chess.KNIGHT, chess.WHITE)\n",
    "\n",
    "\n"
   ]
  },
  {
   "cell_type": "code",
   "execution_count": 6,
   "metadata": {},
   "outputs": [
    {
     "name": "stdout",
     "output_type": "stream",
     "text": [
      "9\n",
      "0\n",
      "9\n"
     ]
    }
   ],
   "source": [
    "for square in squares:\n",
    "    print(square)\n",
    "    print(chess.square_distance(square, square_final))\n",
    "print squares.pop()"
   ]
  },
  {
   "cell_type": "code",
   "execution_count": 7,
   "metadata": {},
   "outputs": [
    {
     "name": "stdout",
     "output_type": "stream",
     "text": [
      "55\n",
      "4\n",
      "53\n",
      "4\n",
      "15\n",
      "4\n"
     ]
    }
   ],
   "source": [
    "\n",
    "from Problems.Problems import Problem\n",
    "\n",
    "from Chess.ChessProblems import KnightProblem\n",
    "\n",
    "from Solvers.Solvers import greedy_best_first_graph_search2, astar2, depth_heuristic\n",
    "\n",
    "p  = KnightProblem()\n",
    "\n",
    "\n",
    "\n",
    "s = greedy_best_first_graph_search2(p, depth_heuristic)\n",
    "\n",
    "#print (s)\n",
    "print (s.N_explored)\n",
    "print(len(s.solution()))\n",
    "\n",
    "s = astar2(p, depth_heuristic)\n",
    "\n",
    "#print (s)\n",
    "print (s.N_explored)\n",
    "print(len(s.solution()))\n",
    "\n",
    "s = astar2(p, p.Dist2Final_heuristic)\n",
    "\n",
    "#print (s)\n",
    "print (s.N_explored)\n",
    "print(len(s.solution()))\n"
   ]
  },
  {
   "cell_type": "code",
   "execution_count": 8,
   "metadata": {},
   "outputs": [
    {
     "name": "stdout",
     "output_type": "stream",
     "text": [
      "9\n"
     ]
    }
   ],
   "source": [
    "for square in squares:\n",
    "    print(square)\n",
    "    print(chess.square_distance(square, square_final))\n",
    "print square"
   ]
  },
  {
   "cell_type": "code",
   "execution_count": 14,
   "metadata": {},
   "outputs": [
    {
     "name": "stdout",
     "output_type": "stream",
     "text": [
      ". . p p . . . .\n",
      ". . . . p . . p\n",
      "p . . . p . . .\n",
      ". . . p . p . .\n",
      ". . . . . . . p\n",
      "p p . p . p p .\n",
      ". . . . . . . p\n",
      ". p . . K . p .\n",
      "168\n",
      "69\n",
      "81\n",
      "14\n",
      "128\n",
      "9\n"
     ]
    }
   ],
   "source": [
    "\n",
    "from Problems.Problems import Problem\n",
    "\n",
    "from Chess.ChessProblems import KnightProblem, KingMazeProblem\n",
    "\n",
    "from Solvers.Solvers import depth_first_graph_search, greedy_best_first_graph_search2, astar2, depth_heuristic\n",
    "\n",
    "p  = KingMazeProblem()\n",
    "\n",
    "print(p.initial)\n",
    "\n",
    "s = depth_first_graph_search(p)\n",
    "\n",
    "if (s!=None):\n",
    "    print (s.N_explored)\n",
    "    print(len(s.solution()))\n",
    "#p.display_solution(s)\n",
    "\n",
    "\n",
    "\n",
    "\n",
    "s = greedy_best_first_graph_search2(p, p.Dist2Final_heuristic)\n",
    "\n",
    "#print (s)\n",
    "if (s != None):\n",
    "    print (s.N_explored)\n",
    "    print(len(s.solution()))\n",
    "\n",
    "\"\"\"\n",
    "s = astar2(p, depth_heuristic)\n",
    "\n",
    "#print (s)\n",
    "if (s!=None):\n",
    "    print (s.N_explored)\n",
    "    print(len(s.solution()))\n",
    "\"\"\"\n",
    "    \n",
    "s = astar2(p, p.Dist2Final_heuristic)\n",
    "\n",
    "\n",
    "\n",
    "if (s!=None):\n",
    "    print (s.N_explored)\n",
    "    print(len(s.solution()))\n",
    "#p.display_solution(s)\n",
    "\n",
    "\n"
   ]
  },
  {
   "cell_type": "code",
   "execution_count": 10,
   "metadata": {},
   "outputs": [
    {
     "name": "stdout",
     "output_type": "stream",
     "text": [
      "<Node . . p p . . . .\n",
      ". . . . p . . p\n",
      "p . . . p . . .\n",
      ". . . p . p . .\n",
      ". . . . . . . .\n",
      ". . . . . . . .\n",
      ". . . . . . . .\n",
      ". . . . . . K .>\n"
     ]
    }
   ],
   "source": [
    "print (s)"
   ]
  }
 ],
 "metadata": {
  "kernelspec": {
   "display_name": "Python 2",
   "language": "python",
   "name": "python2"
  },
  "language_info": {
   "codemirror_mode": {
    "name": "ipython",
    "version": 2
   },
   "file_extension": ".py",
   "mimetype": "text/x-python",
   "name": "python",
   "nbconvert_exporter": "python",
   "pygments_lexer": "ipython2",
   "version": "2.7.14"
  }
 },
 "nbformat": 4,
 "nbformat_minor": 2
}
